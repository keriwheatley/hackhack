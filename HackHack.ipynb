{
 "cells": [
  {
   "cell_type": "code",
   "execution_count": 3,
   "metadata": {},
   "outputs": [
    {
     "name": "stdout",
     "output_type": "stream",
     "text": [
      "start: 2019-03-28 20:06:31.977660\n",
      "phrases_to_check: 297\n",
      "At Row: 1\n",
      "At Row: 25\n",
      "At Row: 50\n",
      "At Row: 75\n",
      "At Row: 100\n",
      "At Row: 125\n",
      "At Row: 150\n",
      "At Row: 175\n",
      "At Row: 200\n",
      "At Row: 225\n",
      "At Row: 250\n",
      "At Row: 275\n",
      "end: 2019-03-28 20:15:07.118972\n"
     ]
    }
   ],
   "source": [
    "from model import run_model\n",
    "\n",
    "rootdir = '/Users/keriwheatley/github/hackhack/'\n",
    "file = \"2019_hackathon_all.csv\"\n",
    "# file = \"2019 hackathon example.short.csv\"\n",
    "summary_norm, summary_cnt, combined_data, merged_data, normOutputDf = run_model(inputFile=rootdir+file, outputDirectory=rootdir)"
   ]
  },
  {
   "cell_type": "code",
   "execution_count": null,
   "metadata": {},
   "outputs": [],
   "source": [
    "# data = final_score.reset_index()[['WebpageLink','Pred']]\n",
    "# data = data[data['WebpageLink'] == 'Currency UI - Spanish']\n",
    "\n",
    "# import seaborn as sns\n",
    "# sns.set(style=\"darkgrid\")\n",
    "# ax = sns.countplot(x=\"Pred\", data=data)"
   ]
  },
  {
   "cell_type": "code",
   "execution_count": null,
   "metadata": {},
   "outputs": [],
   "source": []
  }
 ],
 "metadata": {
  "kernelspec": {
   "display_name": "Python 3.6",
   "language": "python",
   "name": "python36"
  },
  "language_info": {
   "codemirror_mode": {
    "name": "ipython",
    "version": 3
   },
   "file_extension": ".py",
   "mimetype": "text/x-python",
   "name": "python",
   "nbconvert_exporter": "python",
   "pygments_lexer": "ipython3",
   "version": "3.6.7"
  }
 },
 "nbformat": 4,
 "nbformat_minor": 2
}
